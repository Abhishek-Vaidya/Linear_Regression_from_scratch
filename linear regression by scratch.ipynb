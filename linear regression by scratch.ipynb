{
 "cells": [
  {
   "cell_type": "code",
   "execution_count": 1,
   "id": "5a80bc45",
   "metadata": {},
   "outputs": [],
   "source": [
    "import pandas as pd\n",
    "import numpy as np\n",
    "import matplotlib.pyplot as plt"
   ]
  },
  {
   "cell_type": "code",
   "execution_count": 2,
   "id": "b93da674",
   "metadata": {},
   "outputs": [
    {
     "data": {
      "text/html": [
       "<div>\n",
       "<style scoped>\n",
       "    .dataframe tbody tr th:only-of-type {\n",
       "        vertical-align: middle;\n",
       "    }\n",
       "\n",
       "    .dataframe tbody tr th {\n",
       "        vertical-align: top;\n",
       "    }\n",
       "\n",
       "    .dataframe thead th {\n",
       "        text-align: right;\n",
       "    }\n",
       "</style>\n",
       "<table border=\"1\" class=\"dataframe\">\n",
       "  <thead>\n",
       "    <tr style=\"text-align: right;\">\n",
       "      <th></th>\n",
       "      <th>YearsExperience</th>\n",
       "      <th>Salary</th>\n",
       "    </tr>\n",
       "  </thead>\n",
       "  <tbody>\n",
       "    <tr>\n",
       "      <th>0</th>\n",
       "      <td>1.2</td>\n",
       "      <td>39344</td>\n",
       "    </tr>\n",
       "    <tr>\n",
       "      <th>1</th>\n",
       "      <td>1.4</td>\n",
       "      <td>46206</td>\n",
       "    </tr>\n",
       "    <tr>\n",
       "      <th>2</th>\n",
       "      <td>1.6</td>\n",
       "      <td>37732</td>\n",
       "    </tr>\n",
       "    <tr>\n",
       "      <th>3</th>\n",
       "      <td>2.1</td>\n",
       "      <td>43526</td>\n",
       "    </tr>\n",
       "    <tr>\n",
       "      <th>4</th>\n",
       "      <td>2.3</td>\n",
       "      <td>39892</td>\n",
       "    </tr>\n",
       "    <tr>\n",
       "      <th>5</th>\n",
       "      <td>3.0</td>\n",
       "      <td>56643</td>\n",
       "    </tr>\n",
       "    <tr>\n",
       "      <th>6</th>\n",
       "      <td>3.1</td>\n",
       "      <td>60151</td>\n",
       "    </tr>\n",
       "    <tr>\n",
       "      <th>7</th>\n",
       "      <td>3.3</td>\n",
       "      <td>54446</td>\n",
       "    </tr>\n",
       "    <tr>\n",
       "      <th>8</th>\n",
       "      <td>3.3</td>\n",
       "      <td>64446</td>\n",
       "    </tr>\n",
       "    <tr>\n",
       "      <th>9</th>\n",
       "      <td>3.8</td>\n",
       "      <td>57190</td>\n",
       "    </tr>\n",
       "    <tr>\n",
       "      <th>10</th>\n",
       "      <td>4.0</td>\n",
       "      <td>63219</td>\n",
       "    </tr>\n",
       "    <tr>\n",
       "      <th>11</th>\n",
       "      <td>4.1</td>\n",
       "      <td>55795</td>\n",
       "    </tr>\n",
       "    <tr>\n",
       "      <th>12</th>\n",
       "      <td>4.1</td>\n",
       "      <td>56958</td>\n",
       "    </tr>\n",
       "    <tr>\n",
       "      <th>13</th>\n",
       "      <td>4.2</td>\n",
       "      <td>57082</td>\n",
       "    </tr>\n",
       "    <tr>\n",
       "      <th>14</th>\n",
       "      <td>4.6</td>\n",
       "      <td>61112</td>\n",
       "    </tr>\n",
       "    <tr>\n",
       "      <th>15</th>\n",
       "      <td>5.0</td>\n",
       "      <td>67939</td>\n",
       "    </tr>\n",
       "    <tr>\n",
       "      <th>16</th>\n",
       "      <td>5.2</td>\n",
       "      <td>66030</td>\n",
       "    </tr>\n",
       "    <tr>\n",
       "      <th>17</th>\n",
       "      <td>5.4</td>\n",
       "      <td>83089</td>\n",
       "    </tr>\n",
       "    <tr>\n",
       "      <th>18</th>\n",
       "      <td>6.0</td>\n",
       "      <td>81364</td>\n",
       "    </tr>\n",
       "    <tr>\n",
       "      <th>19</th>\n",
       "      <td>6.1</td>\n",
       "      <td>93941</td>\n",
       "    </tr>\n",
       "    <tr>\n",
       "      <th>20</th>\n",
       "      <td>6.9</td>\n",
       "      <td>91739</td>\n",
       "    </tr>\n",
       "    <tr>\n",
       "      <th>21</th>\n",
       "      <td>7.2</td>\n",
       "      <td>98274</td>\n",
       "    </tr>\n",
       "    <tr>\n",
       "      <th>22</th>\n",
       "      <td>8.0</td>\n",
       "      <td>101303</td>\n",
       "    </tr>\n",
       "    <tr>\n",
       "      <th>23</th>\n",
       "      <td>8.3</td>\n",
       "      <td>113813</td>\n",
       "    </tr>\n",
       "    <tr>\n",
       "      <th>24</th>\n",
       "      <td>8.8</td>\n",
       "      <td>109432</td>\n",
       "    </tr>\n",
       "    <tr>\n",
       "      <th>25</th>\n",
       "      <td>9.1</td>\n",
       "      <td>105583</td>\n",
       "    </tr>\n",
       "    <tr>\n",
       "      <th>26</th>\n",
       "      <td>9.6</td>\n",
       "      <td>116970</td>\n",
       "    </tr>\n",
       "    <tr>\n",
       "      <th>27</th>\n",
       "      <td>9.7</td>\n",
       "      <td>112636</td>\n",
       "    </tr>\n",
       "    <tr>\n",
       "      <th>28</th>\n",
       "      <td>10.4</td>\n",
       "      <td>122392</td>\n",
       "    </tr>\n",
       "    <tr>\n",
       "      <th>29</th>\n",
       "      <td>10.6</td>\n",
       "      <td>121873</td>\n",
       "    </tr>\n",
       "  </tbody>\n",
       "</table>\n",
       "</div>"
      ],
      "text/plain": [
       "    YearsExperience  Salary\n",
       "0               1.2   39344\n",
       "1               1.4   46206\n",
       "2               1.6   37732\n",
       "3               2.1   43526\n",
       "4               2.3   39892\n",
       "5               3.0   56643\n",
       "6               3.1   60151\n",
       "7               3.3   54446\n",
       "8               3.3   64446\n",
       "9               3.8   57190\n",
       "10              4.0   63219\n",
       "11              4.1   55795\n",
       "12              4.1   56958\n",
       "13              4.2   57082\n",
       "14              4.6   61112\n",
       "15              5.0   67939\n",
       "16              5.2   66030\n",
       "17              5.4   83089\n",
       "18              6.0   81364\n",
       "19              6.1   93941\n",
       "20              6.9   91739\n",
       "21              7.2   98274\n",
       "22              8.0  101303\n",
       "23              8.3  113813\n",
       "24              8.8  109432\n",
       "25              9.1  105583\n",
       "26              9.6  116970\n",
       "27              9.7  112636\n",
       "28             10.4  122392\n",
       "29             10.6  121873"
      ]
     },
     "execution_count": 2,
     "metadata": {},
     "output_type": "execute_result"
    }
   ],
   "source": [
    "data = pd.read_csv(\"Salary_dataset.csv\")\n",
    "data"
   ]
  },
  {
   "cell_type": "markdown",
   "id": "5aa3526d",
   "metadata": {},
   "source": [
    "# Train-Test-Split"
   ]
  },
  {
   "cell_type": "code",
   "execution_count": 3,
   "id": "de3ed87f",
   "metadata": {},
   "outputs": [],
   "source": [
    "def train_test_split(data,test_ratio):\n",
    "    np.random.seed(42)\n",
    "    shuff_ind = np.random.permutation(len(data))\n",
    "    test_set_len = int(len(data)*test_ratio)\n",
    "    train_set_ind = shuff_ind[test_set_len:]\n",
    "    test_set_ind = shuff_ind[:test_set_len]\n",
    "    train_set = data.iloc[train_set_ind]\n",
    "    test_set = data.iloc[test_set_ind]   #here iloc is important\n",
    "    return train_set,test_set"
   ]
  },
  {
   "cell_type": "code",
   "execution_count": 4,
   "id": "e6952afa",
   "metadata": {},
   "outputs": [],
   "source": [
    "train_set,test_set = train_test_split(data,1/3)"
   ]
  },
  {
   "cell_type": "code",
   "execution_count": 5,
   "id": "8ce6ab59",
   "metadata": {},
   "outputs": [
    {
     "data": {
      "text/html": [
       "<div>\n",
       "<style scoped>\n",
       "    .dataframe tbody tr th:only-of-type {\n",
       "        vertical-align: middle;\n",
       "    }\n",
       "\n",
       "    .dataframe tbody tr th {\n",
       "        vertical-align: top;\n",
       "    }\n",
       "\n",
       "    .dataframe thead th {\n",
       "        text-align: right;\n",
       "    }\n",
       "</style>\n",
       "<table border=\"1\" class=\"dataframe\">\n",
       "  <thead>\n",
       "    <tr style=\"text-align: right;\">\n",
       "      <th></th>\n",
       "      <th>YearsExperience</th>\n",
       "      <th>Salary</th>\n",
       "    </tr>\n",
       "  </thead>\n",
       "  <tbody>\n",
       "    <tr>\n",
       "      <th>4</th>\n",
       "      <td>2.3</td>\n",
       "      <td>39892</td>\n",
       "    </tr>\n",
       "    <tr>\n",
       "      <th>16</th>\n",
       "      <td>5.2</td>\n",
       "      <td>66030</td>\n",
       "    </tr>\n",
       "    <tr>\n",
       "      <th>5</th>\n",
       "      <td>3.0</td>\n",
       "      <td>56643</td>\n",
       "    </tr>\n",
       "    <tr>\n",
       "      <th>13</th>\n",
       "      <td>4.2</td>\n",
       "      <td>57082</td>\n",
       "    </tr>\n",
       "    <tr>\n",
       "      <th>11</th>\n",
       "      <td>4.1</td>\n",
       "      <td>55795</td>\n",
       "    </tr>\n",
       "    <tr>\n",
       "      <th>22</th>\n",
       "      <td>8.0</td>\n",
       "      <td>101303</td>\n",
       "    </tr>\n",
       "    <tr>\n",
       "      <th>1</th>\n",
       "      <td>1.4</td>\n",
       "      <td>46206</td>\n",
       "    </tr>\n",
       "    <tr>\n",
       "      <th>2</th>\n",
       "      <td>1.6</td>\n",
       "      <td>37732</td>\n",
       "    </tr>\n",
       "    <tr>\n",
       "      <th>25</th>\n",
       "      <td>9.1</td>\n",
       "      <td>105583</td>\n",
       "    </tr>\n",
       "    <tr>\n",
       "      <th>3</th>\n",
       "      <td>2.1</td>\n",
       "      <td>43526</td>\n",
       "    </tr>\n",
       "    <tr>\n",
       "      <th>21</th>\n",
       "      <td>7.2</td>\n",
       "      <td>98274</td>\n",
       "    </tr>\n",
       "    <tr>\n",
       "      <th>26</th>\n",
       "      <td>9.6</td>\n",
       "      <td>116970</td>\n",
       "    </tr>\n",
       "    <tr>\n",
       "      <th>18</th>\n",
       "      <td>6.0</td>\n",
       "      <td>81364</td>\n",
       "    </tr>\n",
       "    <tr>\n",
       "      <th>29</th>\n",
       "      <td>10.6</td>\n",
       "      <td>121873</td>\n",
       "    </tr>\n",
       "    <tr>\n",
       "      <th>20</th>\n",
       "      <td>6.9</td>\n",
       "      <td>91739</td>\n",
       "    </tr>\n",
       "    <tr>\n",
       "      <th>7</th>\n",
       "      <td>3.3</td>\n",
       "      <td>54446</td>\n",
       "    </tr>\n",
       "    <tr>\n",
       "      <th>10</th>\n",
       "      <td>4.0</td>\n",
       "      <td>63219</td>\n",
       "    </tr>\n",
       "    <tr>\n",
       "      <th>14</th>\n",
       "      <td>4.6</td>\n",
       "      <td>61112</td>\n",
       "    </tr>\n",
       "    <tr>\n",
       "      <th>19</th>\n",
       "      <td>6.1</td>\n",
       "      <td>93941</td>\n",
       "    </tr>\n",
       "    <tr>\n",
       "      <th>6</th>\n",
       "      <td>3.1</td>\n",
       "      <td>60151</td>\n",
       "    </tr>\n",
       "  </tbody>\n",
       "</table>\n",
       "</div>"
      ],
      "text/plain": [
       "    YearsExperience  Salary\n",
       "4               2.3   39892\n",
       "16              5.2   66030\n",
       "5               3.0   56643\n",
       "13              4.2   57082\n",
       "11              4.1   55795\n",
       "22              8.0  101303\n",
       "1               1.4   46206\n",
       "2               1.6   37732\n",
       "25              9.1  105583\n",
       "3               2.1   43526\n",
       "21              7.2   98274\n",
       "26              9.6  116970\n",
       "18              6.0   81364\n",
       "29             10.6  121873\n",
       "20              6.9   91739\n",
       "7               3.3   54446\n",
       "10              4.0   63219\n",
       "14              4.6   61112\n",
       "19              6.1   93941\n",
       "6               3.1   60151"
      ]
     },
     "execution_count": 5,
     "metadata": {},
     "output_type": "execute_result"
    }
   ],
   "source": [
    "train_set"
   ]
  },
  {
   "cell_type": "code",
   "execution_count": 6,
   "id": "234e1ea0",
   "metadata": {},
   "outputs": [
    {
     "data": {
      "text/html": [
       "<div>\n",
       "<style scoped>\n",
       "    .dataframe tbody tr th:only-of-type {\n",
       "        vertical-align: middle;\n",
       "    }\n",
       "\n",
       "    .dataframe tbody tr th {\n",
       "        vertical-align: top;\n",
       "    }\n",
       "\n",
       "    .dataframe thead th {\n",
       "        text-align: right;\n",
       "    }\n",
       "</style>\n",
       "<table border=\"1\" class=\"dataframe\">\n",
       "  <thead>\n",
       "    <tr style=\"text-align: right;\">\n",
       "      <th></th>\n",
       "      <th>YearsExperience</th>\n",
       "      <th>Salary</th>\n",
       "    </tr>\n",
       "  </thead>\n",
       "  <tbody>\n",
       "    <tr>\n",
       "      <th>27</th>\n",
       "      <td>9.7</td>\n",
       "      <td>112636</td>\n",
       "    </tr>\n",
       "    <tr>\n",
       "      <th>15</th>\n",
       "      <td>5.0</td>\n",
       "      <td>67939</td>\n",
       "    </tr>\n",
       "    <tr>\n",
       "      <th>23</th>\n",
       "      <td>8.3</td>\n",
       "      <td>113813</td>\n",
       "    </tr>\n",
       "    <tr>\n",
       "      <th>17</th>\n",
       "      <td>5.4</td>\n",
       "      <td>83089</td>\n",
       "    </tr>\n",
       "    <tr>\n",
       "      <th>8</th>\n",
       "      <td>3.3</td>\n",
       "      <td>64446</td>\n",
       "    </tr>\n",
       "    <tr>\n",
       "      <th>9</th>\n",
       "      <td>3.8</td>\n",
       "      <td>57190</td>\n",
       "    </tr>\n",
       "    <tr>\n",
       "      <th>28</th>\n",
       "      <td>10.4</td>\n",
       "      <td>122392</td>\n",
       "    </tr>\n",
       "    <tr>\n",
       "      <th>24</th>\n",
       "      <td>8.8</td>\n",
       "      <td>109432</td>\n",
       "    </tr>\n",
       "    <tr>\n",
       "      <th>12</th>\n",
       "      <td>4.1</td>\n",
       "      <td>56958</td>\n",
       "    </tr>\n",
       "    <tr>\n",
       "      <th>0</th>\n",
       "      <td>1.2</td>\n",
       "      <td>39344</td>\n",
       "    </tr>\n",
       "  </tbody>\n",
       "</table>\n",
       "</div>"
      ],
      "text/plain": [
       "    YearsExperience  Salary\n",
       "27              9.7  112636\n",
       "15              5.0   67939\n",
       "23              8.3  113813\n",
       "17              5.4   83089\n",
       "8               3.3   64446\n",
       "9               3.8   57190\n",
       "28             10.4  122392\n",
       "24              8.8  109432\n",
       "12              4.1   56958\n",
       "0               1.2   39344"
      ]
     },
     "execution_count": 6,
     "metadata": {},
     "output_type": "execute_result"
    }
   ],
   "source": [
    "test_set"
   ]
  },
  {
   "cell_type": "code",
   "execution_count": 7,
   "id": "79dbda90",
   "metadata": {},
   "outputs": [],
   "source": [
    "x_train = train_set[\"YearsExperience\"]\n",
    "y_train = train_set[\"Salary\"]\n",
    "x_test = test_set[\"YearsExperience\"]\n",
    "y_test = test_set[\"Salary\"]"
   ]
  },
  {
   "cell_type": "code",
   "execution_count": 8,
   "id": "adc7011f",
   "metadata": {},
   "outputs": [
    {
     "data": {
      "text/plain": [
       "27     9.7\n",
       "15     5.0\n",
       "23     8.3\n",
       "17     5.4\n",
       "8      3.3\n",
       "9      3.8\n",
       "28    10.4\n",
       "24     8.8\n",
       "12     4.1\n",
       "0      1.2\n",
       "Name: YearsExperience, dtype: float64"
      ]
     },
     "execution_count": 8,
     "metadata": {},
     "output_type": "execute_result"
    }
   ],
   "source": [
    "x_test"
   ]
  },
  {
   "cell_type": "markdown",
   "id": "dac6ac88",
   "metadata": {},
   "source": [
    "# Normalization"
   ]
  },
  {
   "cell_type": "code",
   "execution_count": 9,
   "id": "a1d2e586",
   "metadata": {},
   "outputs": [],
   "source": [
    "def min_max_scale(data):\n",
    "    min = np.min(data)\n",
    "    max = np.max(data)\n",
    "    return (data - min)/(max - min)"
   ]
  },
  {
   "cell_type": "code",
   "execution_count": 10,
   "id": "c7dbda5e",
   "metadata": {},
   "outputs": [],
   "source": [
    "x_train_n = min_max_scale(x_train)\n",
    "x_test_n = min_max_scale(x_test)"
   ]
  },
  {
   "cell_type": "code",
   "execution_count": 11,
   "id": "c459355f",
   "metadata": {},
   "outputs": [
    {
     "name": "stdout",
     "output_type": "stream",
     "text": [
      "4     0.097826\n",
      "16    0.413043\n",
      "5     0.173913\n",
      "13    0.304348\n",
      "11    0.293478\n",
      "22    0.717391\n",
      "1     0.000000\n",
      "2     0.021739\n",
      "25    0.836957\n",
      "3     0.076087\n",
      "21    0.630435\n",
      "26    0.891304\n",
      "18    0.500000\n",
      "29    1.000000\n",
      "20    0.597826\n",
      "7     0.206522\n",
      "10    0.282609\n",
      "14    0.347826\n",
      "19    0.510870\n",
      "6     0.184783\n",
      "Name: YearsExperience, dtype: float64 27    0.923913\n",
      "15    0.413043\n",
      "23    0.771739\n",
      "17    0.456522\n",
      "8     0.228261\n",
      "9     0.282609\n",
      "28    1.000000\n",
      "24    0.826087\n",
      "12    0.315217\n",
      "0     0.000000\n",
      "Name: YearsExperience, dtype: float64\n"
     ]
    }
   ],
   "source": [
    "print(x_train_n , x_test_n)"
   ]
  },
  {
   "cell_type": "code",
   "execution_count": 12,
   "id": "e9a30de4",
   "metadata": {},
   "outputs": [
    {
     "data": {
      "text/plain": [
       "<matplotlib.collections.PathCollection at 0x17a700da4d0>"
      ]
     },
     "execution_count": 12,
     "metadata": {},
     "output_type": "execute_result"
    },
    {
     "data": {
      "image/png": "[encoded data removed]",
      "text/plain": [
       "<Figure size 640x480 with 1 Axes>"
      ]
     },
     "metadata": {},
     "output_type": "display_data"
    }
   ],
   "source": [
    "plt.scatter(x_train_n, y_train)"
   ]
  },
  {
   "cell_type": "code",
   "execution_count": 13,
   "id": "8ba494d2",
   "metadata": {},
   "outputs": [],
   "source": [
    "x_train_n = np.array(x_train_n)\n",
    "y_train = np.array(y_train)"
   ]
  },
  {
   "cell_type": "code",
   "execution_count": 14,
   "id": "c19a4072",
   "metadata": {},
   "outputs": [],
   "source": [
    "def compute_model_output(w,b,x):\n",
    "    m = len(x)\n",
    "    f_wb = np.zeros(m)\n",
    "    for i in range(0,m):\n",
    "        f_wb[i] = w*x[i] + b\n",
    "    return f_wb"
   ]
  },
  {
   "cell_type": "code",
   "execution_count": 15,
   "id": "5fee394d",
   "metadata": {},
   "outputs": [
    {
     "name": "stdout",
     "output_type": "stream",
     "text": [
      "[0.09782609 0.41304348 0.17391304 0.30434783 0.29347826 0.7173913\n",
      " 0.         0.02173913 0.83695652 0.07608696 0.63043478 0.89130435\n",
      " 0.5        1.         0.59782609 0.20652174 0.2826087  0.34782609\n",
      " 0.51086957 0.18478261]\n"
     ]
    }
   ],
   "source": [
    "f_wb = compute_model_output(1,0,x_train_n)\n",
    "print(f_wb)"
   ]
  },
  {
   "cell_type": "raw",
   "id": "2cde78de",
   "metadata": {},
   "source": [
    "def compute_cost(y_pred,y_act):\n",
    "    m = len(y_act)\n",
    "    cost = 0\n",
    "    for i in range(0,m):\n",
    "        cost = cost + (y_pred[i] - y_act[i])**2\n",
    "    total_cost = (1/(2*m))*(cost)\n",
    "    return total_cost"
   ]
  },
  {
   "cell_type": "raw",
   "id": "2378a48d",
   "metadata": {
    "scrolled": false
   },
   "source": [
    "print(compute_cost(f_wb , y_train))"
   ]
  },
  {
   "cell_type": "code",
   "execution_count": 16,
   "id": "d38920c0",
   "metadata": {},
   "outputs": [],
   "source": [
    "def compute_cost(x,y,w,b):\n",
    "    m = x.shape[0] \n",
    "    cost_sum = 0 \n",
    "    for i in range(m): \n",
    "        f_wb = w * x[i] + b   \n",
    "        cost = (f_wb - y[i]) ** 2  \n",
    "        cost_sum = cost_sum + cost  \n",
    "    total_cost = (1 / (2 * m)) * cost_sum  \n",
    "\n",
    "    return total_cost"
   ]
  },
  {
   "cell_type": "code",
   "execution_count": 17,
   "id": "586ab1dc",
   "metadata": {},
   "outputs": [
    {
     "name": "stdout",
     "output_type": "stream",
     "text": [
      "2969017094.0536036\n"
     ]
    }
   ],
   "source": [
    "print(compute_cost(x_train_n,y_train,1,0))"
   ]
  },
  {
   "cell_type": "raw",
   "id": "f9504fd1",
   "metadata": {},
   "source": [
    "def compute_decent(y_pred,y_act,x):\n",
    "    m = len(y_act)\n",
    "    dj_dw=0\n",
    "    dj_db=0\n",
    "    for i in range(0,m):\n",
    "        dj_dw_i = (y_pred[i]-y_act[i])*x[i]\n",
    "        dj_db_i = (y_pred[i]-y_act[i])\n",
    "        dj_dw = dj_dw + dj_dw_i\n",
    "        dj_db = dj_db + dj_db_i\n",
    "    dj_dw = dj_dw/m\n",
    "    dj_db = dj_dw/m\n",
    "    return dj_dw ,dj_db"
   ]
  },
  {
   "cell_type": "markdown",
   "id": "a454ba01",
   "metadata": {},
   "source": [
    "print(compute_decent(f_wb,y_train,x_train_n))"
   ]
  },
  {
   "cell_type": "code",
   "execution_count": 18,
   "id": "6fd5d455",
   "metadata": {},
   "outputs": [],
   "source": [
    "def compute_decent(x,y,w,b):\n",
    "    m = x.shape[0]    \n",
    "    dj_dw = 0\n",
    "    dj_db = 0\n",
    "    \n",
    "    for i in range(m):  \n",
    "        f_wb = w * x[i] + b \n",
    "        dj_dw_i = (f_wb - y[i]) * x[i] \n",
    "        dj_db_i = f_wb - y[i] \n",
    "        dj_db += dj_db_i\n",
    "        dj_dw += dj_dw_i \n",
    "    dj_dw = dj_dw / m \n",
    "    dj_db = dj_db / m \n",
    "        \n",
    "    return dj_dw, dj_db"
   ]
  },
  {
   "cell_type": "code",
   "execution_count": 19,
   "id": "d2d3dd04",
   "metadata": {},
   "outputs": [
    {
     "name": "stdout",
     "output_type": "stream",
     "text": [
      "(-36651.34768431002, -72643.64565217393)\n"
     ]
    }
   ],
   "source": [
    "print(compute_decent(x_train_n,y_train,1,0))"
   ]
  },
  {
   "cell_type": "code",
   "execution_count": 20,
   "id": "a84ab4e8",
   "metadata": {},
   "outputs": [],
   "source": [
    "def gradient_decent(x,y,w,b,epoch,alpha,compute_cost,compute_decent):\n",
    "    w = w\n",
    "    b = b\n",
    "    for i in range(0,epoch):\n",
    "        dj_dw,dj_db = compute_decent(x,y,w,b)\n",
    "        \n",
    "        #update w and b\n",
    "        w = w - alpha*dj_dw\n",
    "        b = b - alpha*dj_db\n",
    "        \n",
    "        # Print cost every at intervals 1000 times or as many iterations if < 10\n",
    "        if (i%1000 == 0):\n",
    "            print(\"cost = \", compute_cost(x,y,w,b))\n",
    "            print(\"w = \",w)\n",
    "            print(\"b = \",b)\n",
    "            print(\"--------------------------------------------------------------------------------------\")\n",
    "    "
   ]
  },
  {
   "cell_type": "code",
   "execution_count": 21,
   "id": "6559b561",
   "metadata": {},
   "outputs": [
    {
     "name": "stdout",
     "output_type": "stream",
     "text": [
      "cost =  2903201019.235167\n",
      "w =  367.51347684310025\n",
      "b =  726.4364565217393\n",
      "--------------------------------------------------------------------------------------\n",
      "cost =  50455846.359956115\n",
      "w =  57775.52176762265\n",
      "b =  50181.47675760313\n",
      "--------------------------------------------------------------------------------------\n",
      "cost =  23425239.293917846\n",
      "w =  72544.6544036061\n",
      "b =  43751.23217567458\n",
      "--------------------------------------------------------------------------------------\n",
      "cost =  16942123.910637867\n",
      "w =  79777.56561151019\n",
      "b =  40601.87264752688\n",
      "--------------------------------------------------------------------------------------\n",
      "cost =  15387190.823265025\n",
      "w =  83319.79849635418\n",
      "b =  39059.510992569834\n",
      "--------------------------------------------------------------------------------------\n",
      "cost =  15014250.2286179\n",
      "w =  85054.5652385841\n",
      "b =  38304.15757835521\n",
      "--------------------------------------------------------------------------------------\n",
      "cost =  14924802.850936368\n",
      "w =  85904.14677310799\n",
      "b =  37934.232160064465\n",
      "--------------------------------------------------------------------------------------\n",
      "cost =  14903349.478766803\n",
      "w =  86320.21930103528\n",
      "b =  37753.06555311944\n",
      "--------------------------------------------------------------------------------------\n",
      "cost =  14898204.026889123\n",
      "w =  86523.9859101968\n",
      "b =  37664.34134588959\n",
      "--------------------------------------------------------------------------------------\n",
      "cost =  14896969.923699357\n",
      "w =  86623.77820173764\n",
      "b =  37620.88971271457\n",
      "--------------------------------------------------------------------------------------\n"
     ]
    }
   ],
   "source": [
    "gradient_decent(x_train_n,y_train,1,0,10000,0.01,compute_cost,compute_decent) "
   ]
  },
  {
   "cell_type": "raw",
   "id": "244aa92a",
   "metadata": {},
   "source": [
    "cost =  14896675.275040243\n",
    "w =  86672.31424318605\n",
    "b =  37599.756113753894"
   ]
  },
  {
   "cell_type": "markdown",
   "id": "810d6a74",
   "metadata": {},
   "source": [
    "# Now fitting Linear Regression"
   ]
  },
  {
   "cell_type": "code",
   "execution_count": 22,
   "id": "c4e83046",
   "metadata": {},
   "outputs": [],
   "source": [
    "x_train_n = x_train_n.reshape(20,1)\n",
    "y_train = y_train.reshape(20,1)"
   ]
  },
  {
   "cell_type": "code",
   "execution_count": 23,
   "id": "03afeccb",
   "metadata": {},
   "outputs": [
    {
     "data": {
      "text/html": [
       "<style>#sk-container-id-1 {color: black;background-color: white;}#sk-container-id-1 pre{padding: 0;}#sk-container-id-1 div.sk-toggleable {background-color: white;}#sk-container-id-1 label.sk-toggleable__label {cursor: pointer;display: block;width: 100%;margin-bottom: 0;padding: 0.3em;box-sizing: border-box;text-align: center;}#sk-container-id-1 label.sk-toggleable__label-arrow:before {content: \"▸\";float: left;margin-right: 0.25em;color: #696969;}#sk-container-id-1 label.sk-toggleable__label-arrow:hover:before {color: black;}#sk-container-id-1 div.sk-estimator:hover label.sk-toggleable__label-arrow:before {color: black;}#sk-container-id-1 div.sk-toggleable__content {max-height: 0;max-width: 0;overflow: hidden;text-align: left;background-color: #f0f8ff;}#sk-container-id-1 div.sk-toggleable__content pre {margin: 0.2em;color: black;border-radius: 0.25em;background-color: #f0f8ff;}#sk-container-id-1 input.sk-toggleable__control:checked~div.sk-toggleable__content {max-height: 200px;max-width: 100%;overflow: auto;}#sk-container-id-1 input.sk-toggleable__control:checked~label.sk-toggleable__label-arrow:before {content: \"▾\";}#sk-container-id-1 div.sk-estimator input.sk-toggleable__control:checked~label.sk-toggleable__label {background-color: #d4ebff;}#sk-container-id-1 div.sk-label input.sk-toggleable__control:checked~label.sk-toggleable__label {background-color: #d4ebff;}#sk-container-id-1 input.sk-hidden--visually {border: 0;clip: rect(1px 1px 1px 1px);clip: rect(1px, 1px, 1px, 1px);height: 1px;margin: -1px;overflow: hidden;padding: 0;position: absolute;width: 1px;}#sk-container-id-1 div.sk-estimator {font-family: monospace;background-color: #f0f8ff;border: 1px dotted black;border-radius: 0.25em;box-sizing: border-box;margin-bottom: 0.5em;}#sk-container-id-1 div.sk-estimator:hover {background-color: #d4ebff;}#sk-container-id-1 div.sk-parallel-item::after {content: \"\";width: 100%;border-bottom: 1px solid gray;flex-grow: 1;}#sk-container-id-1 div.sk-label:hover label.sk-toggleable__label {background-color: #d4ebff;}#sk-container-id-1 div.sk-serial::before {content: \"\";position: absolute;border-left: 1px solid gray;box-sizing: border-box;top: 0;bottom: 0;left: 50%;z-index: 0;}#sk-container-id-1 div.sk-serial {display: flex;flex-direction: column;align-items: center;background-color: white;padding-right: 0.2em;padding-left: 0.2em;position: relative;}#sk-container-id-1 div.sk-item {position: relative;z-index: 1;}#sk-container-id-1 div.sk-parallel {display: flex;align-items: stretch;justify-content: center;background-color: white;position: relative;}#sk-container-id-1 div.sk-item::before, #sk-container-id-1 div.sk-parallel-item::before {content: \"\";position: absolute;border-left: 1px solid gray;box-sizing: border-box;top: 0;bottom: 0;left: 50%;z-index: -1;}#sk-container-id-1 div.sk-parallel-item {display: flex;flex-direction: column;z-index: 1;position: relative;background-color: white;}#sk-container-id-1 div.sk-parallel-item:first-child::after {align-self: flex-end;width: 50%;}#sk-container-id-1 div.sk-parallel-item:last-child::after {align-self: flex-start;width: 50%;}#sk-container-id-1 div.sk-parallel-item:only-child::after {width: 0;}#sk-container-id-1 div.sk-dashed-wrapped {border: 1px dashed gray;margin: 0 0.4em 0.5em 0.4em;box-sizing: border-box;padding-bottom: 0.4em;background-color: white;}#sk-container-id-1 div.sk-label label {font-family: monospace;font-weight: bold;display: inline-block;line-height: 1.2em;}#sk-container-id-1 div.sk-label-container {text-align: center;}#sk-container-id-1 div.sk-container {/* jupyter's `normalize.less` sets `[hidden] { display: none; }` but bootstrap.min.css set `[hidden] { display: none !important; }` so we also need the `!important` here to be able to override the default hidden behavior on the sphinx rendered scikit-learn.org. See: https://github.com/scikit-learn/scikit-learn/issues/21755 */display: inline-block !important;position: relative;}#sk-container-id-1 div.sk-text-repr-fallback {display: none;}</style><div id=\"sk-container-id-1\" class=\"sk-top-container\"><div class=\"sk-text-repr-fallback\"><pre>LinearRegression()</pre><b>In a Jupyter environment, please rerun this cell to show the HTML representation or trust the notebook. <br />On GitHub, the HTML representation is unable to render, please try loading this page with nbviewer.org.</b></div><div class=\"sk-container\" hidden><div class=\"sk-item\"><div class=\"sk-estimator sk-toggleable\"><input class=\"sk-toggleable__control sk-hidden--visually\" id=\"sk-estimator-id-1\" type=\"checkbox\" checked><label for=\"sk-estimator-id-1\" class=\"sk-toggleable__label sk-toggleable__label-arrow\">LinearRegression</label><div class=\"sk-toggleable__content\"><pre>LinearRegression()</pre></div></div></div></div></div>"
      ],
      "text/plain": [
       "LinearRegression()"
      ]
     },
     "execution_count": 23,
     "metadata": {},
     "output_type": "execute_result"
    }
   ],
   "source": [
    "from sklearn.linear_model import LinearRegression\n",
    "model = LinearRegression()\n",
    "model.fit(x_train_n,y_train)"
   ]
  },
  {
   "cell_type": "code",
   "execution_count": 25,
   "id": "80e677bf",
   "metadata": {},
   "outputs": [],
   "source": [
    "y_p = compute_model_output(86672.31424318605,37599.756113753894,x_train_n)"
   ]
  },
  {
   "cell_type": "code",
   "execution_count": 26,
   "id": "a0c6847e",
   "metadata": {},
   "outputs": [
    {
     "data": {
      "text/plain": [
       "array([[ 39892],\n",
       "       [ 66030],\n",
       "       [ 56643],\n",
       "       [ 57082],\n",
       "       [ 55795],\n",
       "       [101303],\n",
       "       [ 46206],\n",
       "       [ 37732],\n",
       "       [105583],\n",
       "       [ 43526],\n",
       "       [ 98274],\n",
       "       [116970],\n",
       "       [ 81364],\n",
       "       [121873],\n",
       "       [ 91739],\n",
       "       [ 54446],\n",
       "       [ 63219],\n",
       "       [ 61112],\n",
       "       [ 93941],\n",
       "       [ 60151]], dtype=int64)"
      ]
     },
     "execution_count": 26,
     "metadata": {},
     "output_type": "execute_result"
    }
   ],
   "source": [
    "y_train"
   ]
  },
  {
   "cell_type": "code",
   "execution_count": 27,
   "id": "aff47feb",
   "metadata": {},
   "outputs": [
    {
     "name": "stdout",
     "output_type": "stream",
     "text": [
      "[[86719.55667549]] [37579.18577904]\n"
     ]
    }
   ],
   "source": [
    "b = model.intercept_\n",
    "w = model.coef_\n",
    "print(w,b)"
   ]
  },
  {
   "cell_type": "code",
   "execution_count": 28,
   "id": "39290d18",
   "metadata": {},
   "outputs": [
    {
     "name": "stdout",
     "output_type": "stream",
     "text": [
      "14896675.275040243\n"
     ]
    }
   ],
   "source": [
    "from sklearn.metrics import mean_squared_error\n",
    "mse = mean_squared_error(y_train, y_p)\n",
    "print(mse/2)"
   ]
  },
  {
   "cell_type": "code",
   "execution_count": 29,
   "id": "b0344985",
   "metadata": {},
   "outputs": [],
   "source": [
    "cost =  14896675.275040243\n",
    "w =  86672.31424318605\n",
    "b =  37599.756113753894"
   ]
  },
  {
   "cell_type": "code",
   "execution_count": null,
   "id": "f7d13797",
   "metadata": {},
   "outputs": [],
   "source": []
  },
  {
   "cell_type": "code",
   "execution_count": null,
   "id": "1daabd92",
   "metadata": {},
   "outputs": [],
   "source": []
  }
 ],
 "metadata": {
  "kernelspec": {
   "display_name": "Python 3 (ipykernel)",
   "language": "python",
   "name": "python3"
  },
  "language_info": {
   "codemirror_mode": {
    "name": "ipython",
    "version": 3
   },
   "file_extension": ".py",
   "mimetype": "text/x-python",
   "name": "python",
   "nbconvert_exporter": "python",
   "pygments_lexer": "ipython3",
   "version": "3.11.4"
  }
 },
 "nbformat": 4,
 "nbformat_minor": 5
}
